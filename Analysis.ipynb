{
 "cells": [
  {
   "cell_type": "code",
   "execution_count": 4,
   "metadata": {},
   "outputs": [],
   "source": [
    "import numpy as np\n",
    "import pandas as pd\n",
    "import matplotlib.pyplot as plt\n",
    "import seaborn as sns"
   ]
  },
  {
   "cell_type": "code",
   "execution_count": null,
   "metadata": {},
   "outputs": [],
   "source": [
    "df = pd.read_csv('Expanded_data_with_more_features.csv')\n",
    "df"
   ]
  },
  {
   "cell_type": "code",
   "execution_count": null,
   "metadata": {},
   "outputs": [],
   "source": [
    "# Print First 5 Rows\n",
    "df.head()"
   ]
  },
  {
   "cell_type": "code",
   "execution_count": null,
   "metadata": {},
   "outputs": [],
   "source": [
    "df.info()"
   ]
  },
  {
   "cell_type": "code",
   "execution_count": null,
   "metadata": {},
   "outputs": [],
   "source": [
    "df.describe()"
   ]
  },
  {
   "cell_type": "code",
   "execution_count": null,
   "metadata": {},
   "outputs": [],
   "source": [
    "# Print all column\n",
    "df.columns"
   ]
  },
  {
   "cell_type": "code",
   "execution_count": null,
   "metadata": {},
   "outputs": [],
   "source": [
    "# Find all Null Values\n",
    "df.isna().sum()"
   ]
  },
  {
   "cell_type": "code",
   "execution_count": 11,
   "metadata": {},
   "outputs": [],
   "source": [
    "# Drop unnamed column\n",
    "del df['Unnamed: 0']"
   ]
  },
  {
   "cell_type": "code",
   "execution_count": null,
   "metadata": {},
   "outputs": [],
   "source": [
    "# Transform weekly student column\n",
    "df['WklyStudyHours'] = df['WklyStudyHours'].str.replace(\"05-Oct\",\"5-10\")\n",
    "df"
   ]
  },
  {
   "cell_type": "markdown",
   "metadata": {},
   "source": [
    "Data Visualization"
   ]
  },
  {
   "cell_type": "code",
   "execution_count": null,
   "metadata": {},
   "outputs": [],
   "source": [
    "# Gender Distribution\n",
    "plt.figure(figsize=(4,5))\n",
    "ax = sns.countplot(x = \"Gender\",data=df)\n",
    "ax.bar_label(ax.containers[0])\n",
    "plt.title(\"Gender Distribution\")\n",
    "plt.show()"
   ]
  },
  {
   "cell_type": "markdown",
   "metadata": {},
   "source": [
    "from the above chart we have analysed that:\n",
    "the number of females in the data is more than the number of males"
   ]
  },
  {
   "cell_type": "code",
   "execution_count": null,
   "metadata": {},
   "outputs": [],
   "source": [
    "# Parents Education\n",
    "gb = df.groupby('ParentEduc').agg({'MathScore':'mean','ReadingScore':'mean','WritingScore':'mean'})\n",
    "plt.figure(figsize=(4,4))\n",
    "sns.heatmap(gb,annot=True)\n",
    "plt.title(\"Relationship between Parent's Education and Student's Score\")\n",
    "plt.show()"
   ]
  },
  {
   "cell_type": "markdown",
   "metadata": {},
   "source": [
    "from the above chart we have concluded that the education of the parents have a good impact on their students    "
   ]
  },
  {
   "cell_type": "code",
   "execution_count": null,
   "metadata": {},
   "outputs": [],
   "source": [
    "# Parents Marital Status\n",
    "gb = df.groupby('ParentMaritalStatus').agg({'MathScore':'mean','ReadingScore':'mean','WritingScore':'mean'})\n",
    "plt.figure(figsize=(4,4))\n",
    "sns.heatmap(gb,annot=True)\n",
    "plt.title(\"Relationship between Parent's marital Status and Student's Score\")\n",
    "plt.show()"
   ]
  },
  {
   "cell_type": "markdown",
   "metadata": {},
   "source": [
    "from the above chart we have concluded that there is no/negligible impact on the student's score due to their marital status"
   ]
  },
  {
   "cell_type": "code",
   "execution_count": null,
   "metadata": {},
   "outputs": [],
   "source": [
    "# Math Score Analysis\n",
    "plt.figure(figsize=(4,4))\n",
    "sns.boxplot(x = 'MathScore', data=df)\n",
    "plt.show()"
   ]
  },
  {
   "cell_type": "code",
   "execution_count": null,
   "metadata": {},
   "outputs": [],
   "source": [
    "# Reading Score Analysis\n",
    "plt.figure(figsize=(4,4))\n",
    "sns.boxplot(x = 'ReadingScore', data=df)\n",
    "plt.show()"
   ]
  },
  {
   "cell_type": "code",
   "execution_count": null,
   "metadata": {},
   "outputs": [],
   "source": [
    "# Writing Score Analysis\n",
    "plt.figure(figsize=(4,4))\n",
    "sns.boxplot(x = 'WritingScore', data=df)\n",
    "plt.show()"
   ]
  },
  {
   "cell_type": "code",
   "execution_count": null,
   "metadata": {},
   "outputs": [],
   "source": [
    "# Disribution of Ethnic Group\n",
    "df['EthnicGroup'].unique()"
   ]
  },
  {
   "cell_type": "code",
   "execution_count": null,
   "metadata": {},
   "outputs": [],
   "source": [
    "# plt.figure(figsize=(4,8))\n",
    "ga = df.loc[(df['EthnicGroup'] == 'group A')].count()\n",
    "gb = df.loc[(df['EthnicGroup'] == 'group B')].count()\n",
    "gc = df.loc[(df['EthnicGroup'] == 'group C')].count()\n",
    "gd = df.loc[(df['EthnicGroup'] == 'group D')].count()\n",
    "ge = df.loc[(df['EthnicGroup'] == 'group E')].count()\n",
    "\n",
    "mylist = [ga['EthnicGroup'],gb['EthnicGroup'],gc['EthnicGroup'],gd['EthnicGroup'],ge['EthnicGroup']]\n",
    "l = [\"Group A\",\"Group B\",\"Group C\",\"Group D\",\"Group E\",] \n",
    "plt.pie(mylist,labels=l,autopct='%.2f%%')\n",
    "plt.title(\"Distribution of EthnicGroup\")\n",
    "plt.legend()\n",
    "plt.show()"
   ]
  },
  {
   "cell_type": "code",
   "execution_count": null,
   "metadata": {},
   "outputs": [],
   "source": [
    "# count of Ethenic Group\n",
    "plt.figure(figsize=(4,4))\n",
    "ax = sns.countplot(data=df,x='EthnicGroup')\n",
    "ax.bar_label(ax.containers[0])\n",
    "plt.title(\"Ethenic Group Count\")\n",
    "plt.show()"
   ]
  }
 ],
 "metadata": {
  "kernelspec": {
   "display_name": "Python 3",
   "language": "python",
   "name": "python3"
  },
  "language_info": {
   "codemirror_mode": {
    "name": "ipython",
    "version": 3
   },
   "file_extension": ".py",
   "mimetype": "text/x-python",
   "name": "python",
   "nbconvert_exporter": "python",
   "pygments_lexer": "ipython3",
   "version": "3.13.0"
  }
 },
 "nbformat": 4,
 "nbformat_minor": 2
}
